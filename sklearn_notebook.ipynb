{
 "cells": [
  {
   "cell_type": "markdown",
   "id": "99efd5a1",
   "metadata": {},
   "source": [
    "**k ближайших соседей** - очень хорошо изученный алгоритм, он даже теоретически идеален: если у нас есть бесконечный датасет для обучения, то с помщоью knn мы можем восстановить полностью всю зависимость. На самом деле, бесконечный датасет даже и не нужен. Нам нужно просто иметь около каждой точкт пространства достатоно много примеров, чтобы мы хорошо могли оценить вероятность каждого из классов.\n",
    "\n",
    "Самая большая проблема knn - проклятие размерности. Когда у нас становится много признаков, плотность обучающих примеров в n-мерном пространстве резко снижается.\n",
    "С увеличением размерности, все больше объектов обучающей выборки находятся в \"углах\" пространства признаков.\n",
    "\n",
    "Отсюда вытекают сильные и слабые стороны KNN\n",
    "\n",
    "Плюсы:\n",
    "\n",
    "Хороший бейзлайн.\n",
    "Хорошая интерпретируемость при небольом числе признаков.\n",
    "Быстрый на небольших и средних данных.\n",
    "Теоретически идеален и не делает никаких предположений о зависимости\n",
    "Минусы:\n",
    "\n",
    "Нужно хорошее пространство и метрика, чтобы он работал. Т.е. нужно отбирать признаки, уменьшать размерность данных, стандартизировать признаки итд.\n",
    "Если можно сделать какие-то предположения о природе данных, их нужно встраивать в модель через создание новых признаков или измение метрики. Очень сложно и требует опыта."
   ]
  },
  {
   "cell_type": "code",
   "execution_count": 3,
   "id": "29321bcc",
   "metadata": {},
   "outputs": [
    {
     "name": "stdout",
     "output_type": "stream",
     "text": [
      "Collecting scikit-learn\n",
      "  Obtaining dependency information for scikit-learn from https://files.pythonhosted.org/packages/1f/ad/9799aabeabcb9a293c87b6f96cc78655b8abc7d35560cd99007093b5d445/scikit_learn-1.3.0-cp311-cp311-manylinux_2_17_x86_64.manylinux2014_x86_64.whl.metadata\n",
      "  Downloading scikit_learn-1.3.0-cp311-cp311-manylinux_2_17_x86_64.manylinux2014_x86_64.whl.metadata (11 kB)\n",
      "Requirement already satisfied: numpy>=1.17.3 in ./anaconda3/envs/myenvconda/lib/python3.11/site-packages (from scikit-learn) (1.25.2)\n",
      "Collecting scipy>=1.5.0 (from scikit-learn)\n",
      "  Obtaining dependency information for scipy>=1.5.0 from https://files.pythonhosted.org/packages/0e/a0/8606a7eef659f3d5f79d9efb92eed3ed1243178f4ae962614e1b202935a6/scipy-1.11.2-cp311-cp311-manylinux_2_17_x86_64.manylinux2014_x86_64.whl.metadata\n",
      "  Downloading scipy-1.11.2-cp311-cp311-manylinux_2_17_x86_64.manylinux2014_x86_64.whl.metadata (59 kB)\n",
      "\u001b[2K     \u001b[38;2;114;156;31m━━━━━━━━━━━━━━━━━━━━━━━━━━━━━━━━━━━━━━━\u001b[0m \u001b[32m59.1/59.1 kB\u001b[0m \u001b[31m892.8 kB/s\u001b[0m eta \u001b[36m0:00:00\u001b[0m31m1.1 MB/s\u001b[0m eta \u001b[36m0:00:01\u001b[0m\n",
      "\u001b[?25hCollecting joblib>=1.1.1 (from scikit-learn)\n",
      "  Obtaining dependency information for joblib>=1.1.1 from https://files.pythonhosted.org/packages/10/40/d551139c85db202f1f384ba8bcf96aca2f329440a844f924c8a0040b6d02/joblib-1.3.2-py3-none-any.whl.metadata\n",
      "  Downloading joblib-1.3.2-py3-none-any.whl.metadata (5.4 kB)\n",
      "Collecting threadpoolctl>=2.0.0 (from scikit-learn)\n",
      "  Obtaining dependency information for threadpoolctl>=2.0.0 from https://files.pythonhosted.org/packages/81/12/fd4dea011af9d69e1cad05c75f3f7202cdcbeac9b712eea58ca779a72865/threadpoolctl-3.2.0-py3-none-any.whl.metadata\n",
      "  Downloading threadpoolctl-3.2.0-py3-none-any.whl.metadata (10.0 kB)\n",
      "Downloading scikit_learn-1.3.0-cp311-cp311-manylinux_2_17_x86_64.manylinux2014_x86_64.whl (10.9 MB)\n",
      "\u001b[2K   \u001b[38;2;114;156;31m━━━━━━━━━━━━━━━━━━━━━━━━━━━━━━━━━━━━━━━━\u001b[0m \u001b[32m10.9/10.9 MB\u001b[0m \u001b[31m2.1 MB/s\u001b[0m eta \u001b[36m0:00:00\u001b[0mm eta \u001b[36m0:00:01\u001b[0m[36m0:00:01\u001b[0m\n",
      "\u001b[?25hDownloading joblib-1.3.2-py3-none-any.whl (302 kB)\n",
      "\u001b[2K   \u001b[38;2;114;156;31m━━━━━━━━━━━━━━━━━━━━━━━━━━━━━━━━━━━━━━━━\u001b[0m \u001b[32m302.2/302.2 kB\u001b[0m \u001b[31m3.2 MB/s\u001b[0m eta \u001b[36m0:00:00\u001b[0m MB/s\u001b[0m eta \u001b[36m0:00:01\u001b[0m:01\u001b[0m\n",
      "\u001b[?25hDownloading scipy-1.11.2-cp311-cp311-manylinux_2_17_x86_64.manylinux2014_x86_64.whl (36.3 MB)\n",
      "\u001b[2K   \u001b[38;2;114;156;31m━━━━━━━━━━━━━━━━━━━━━━━━━━━━━━━━━━━━━━━━\u001b[0m \u001b[32m36.3/36.3 MB\u001b[0m \u001b[31m4.2 MB/s\u001b[0m eta \u001b[36m0:00:00\u001b[0mm eta \u001b[36m0:00:01\u001b[0m[36m0:00:01\u001b[0m\n",
      "\u001b[?25hDownloading threadpoolctl-3.2.0-py3-none-any.whl (15 kB)\n",
      "Installing collected packages: threadpoolctl, scipy, joblib, scikit-learn\n",
      "Successfully installed joblib-1.3.2 scikit-learn-1.3.0 scipy-1.11.2 threadpoolctl-3.2.0\n",
      "Note: you may need to restart the kernel to use updated packages.\n"
     ]
    }
   ],
   "source": [
    "pip install -U scikit-learn\n"
   ]
  },
  {
   "cell_type": "code",
   "execution_count": 5,
   "id": "2496a5b9",
   "metadata": {},
   "outputs": [
    {
     "data": {
      "text/html": [
       "<div>\n",
       "<style scoped>\n",
       "    .dataframe tbody tr th:only-of-type {\n",
       "        vertical-align: middle;\n",
       "    }\n",
       "\n",
       "    .dataframe tbody tr th {\n",
       "        vertical-align: top;\n",
       "    }\n",
       "\n",
       "    .dataframe thead th {\n",
       "        text-align: right;\n",
       "    }\n",
       "</style>\n",
       "<table border=\"1\" class=\"dataframe\">\n",
       "  <thead>\n",
       "    <tr style=\"text-align: right;\">\n",
       "      <th></th>\n",
       "      <th>Churn</th>\n",
       "      <th>AccountWeeks</th>\n",
       "      <th>ContractRenewal</th>\n",
       "      <th>DataPlan</th>\n",
       "      <th>DataUsage</th>\n",
       "      <th>CustServCalls</th>\n",
       "      <th>DayMins</th>\n",
       "      <th>DayCalls</th>\n",
       "      <th>MonthlyCharge</th>\n",
       "      <th>OverageFee</th>\n",
       "      <th>RoamMins</th>\n",
       "    </tr>\n",
       "  </thead>\n",
       "  <tbody>\n",
       "    <tr>\n",
       "      <th>0</th>\n",
       "      <td>0</td>\n",
       "      <td>128</td>\n",
       "      <td>1</td>\n",
       "      <td>1</td>\n",
       "      <td>2.70</td>\n",
       "      <td>1</td>\n",
       "      <td>265.1</td>\n",
       "      <td>110</td>\n",
       "      <td>89.0</td>\n",
       "      <td>9.87</td>\n",
       "      <td>10.0</td>\n",
       "    </tr>\n",
       "    <tr>\n",
       "      <th>1</th>\n",
       "      <td>0</td>\n",
       "      <td>107</td>\n",
       "      <td>1</td>\n",
       "      <td>1</td>\n",
       "      <td>3.70</td>\n",
       "      <td>1</td>\n",
       "      <td>161.6</td>\n",
       "      <td>123</td>\n",
       "      <td>82.0</td>\n",
       "      <td>9.78</td>\n",
       "      <td>13.7</td>\n",
       "    </tr>\n",
       "    <tr>\n",
       "      <th>2</th>\n",
       "      <td>0</td>\n",
       "      <td>137</td>\n",
       "      <td>1</td>\n",
       "      <td>0</td>\n",
       "      <td>0.00</td>\n",
       "      <td>0</td>\n",
       "      <td>243.4</td>\n",
       "      <td>114</td>\n",
       "      <td>52.0</td>\n",
       "      <td>6.06</td>\n",
       "      <td>12.2</td>\n",
       "    </tr>\n",
       "    <tr>\n",
       "      <th>3</th>\n",
       "      <td>0</td>\n",
       "      <td>84</td>\n",
       "      <td>0</td>\n",
       "      <td>0</td>\n",
       "      <td>0.00</td>\n",
       "      <td>2</td>\n",
       "      <td>299.4</td>\n",
       "      <td>71</td>\n",
       "      <td>57.0</td>\n",
       "      <td>3.10</td>\n",
       "      <td>6.6</td>\n",
       "    </tr>\n",
       "    <tr>\n",
       "      <th>4</th>\n",
       "      <td>0</td>\n",
       "      <td>75</td>\n",
       "      <td>0</td>\n",
       "      <td>0</td>\n",
       "      <td>0.00</td>\n",
       "      <td>3</td>\n",
       "      <td>166.7</td>\n",
       "      <td>113</td>\n",
       "      <td>41.0</td>\n",
       "      <td>7.42</td>\n",
       "      <td>10.1</td>\n",
       "    </tr>\n",
       "    <tr>\n",
       "      <th>...</th>\n",
       "      <td>...</td>\n",
       "      <td>...</td>\n",
       "      <td>...</td>\n",
       "      <td>...</td>\n",
       "      <td>...</td>\n",
       "      <td>...</td>\n",
       "      <td>...</td>\n",
       "      <td>...</td>\n",
       "      <td>...</td>\n",
       "      <td>...</td>\n",
       "      <td>...</td>\n",
       "    </tr>\n",
       "    <tr>\n",
       "      <th>3328</th>\n",
       "      <td>0</td>\n",
       "      <td>192</td>\n",
       "      <td>1</td>\n",
       "      <td>1</td>\n",
       "      <td>2.67</td>\n",
       "      <td>2</td>\n",
       "      <td>156.2</td>\n",
       "      <td>77</td>\n",
       "      <td>71.7</td>\n",
       "      <td>10.78</td>\n",
       "      <td>9.9</td>\n",
       "    </tr>\n",
       "    <tr>\n",
       "      <th>3329</th>\n",
       "      <td>0</td>\n",
       "      <td>68</td>\n",
       "      <td>1</td>\n",
       "      <td>0</td>\n",
       "      <td>0.34</td>\n",
       "      <td>3</td>\n",
       "      <td>231.1</td>\n",
       "      <td>57</td>\n",
       "      <td>56.4</td>\n",
       "      <td>7.67</td>\n",
       "      <td>9.6</td>\n",
       "    </tr>\n",
       "    <tr>\n",
       "      <th>3330</th>\n",
       "      <td>0</td>\n",
       "      <td>28</td>\n",
       "      <td>1</td>\n",
       "      <td>0</td>\n",
       "      <td>0.00</td>\n",
       "      <td>2</td>\n",
       "      <td>180.8</td>\n",
       "      <td>109</td>\n",
       "      <td>56.0</td>\n",
       "      <td>14.44</td>\n",
       "      <td>14.1</td>\n",
       "    </tr>\n",
       "    <tr>\n",
       "      <th>3331</th>\n",
       "      <td>0</td>\n",
       "      <td>184</td>\n",
       "      <td>0</td>\n",
       "      <td>0</td>\n",
       "      <td>0.00</td>\n",
       "      <td>2</td>\n",
       "      <td>213.8</td>\n",
       "      <td>105</td>\n",
       "      <td>50.0</td>\n",
       "      <td>7.98</td>\n",
       "      <td>5.0</td>\n",
       "    </tr>\n",
       "    <tr>\n",
       "      <th>3332</th>\n",
       "      <td>0</td>\n",
       "      <td>74</td>\n",
       "      <td>1</td>\n",
       "      <td>1</td>\n",
       "      <td>3.70</td>\n",
       "      <td>0</td>\n",
       "      <td>234.4</td>\n",
       "      <td>113</td>\n",
       "      <td>100.0</td>\n",
       "      <td>13.30</td>\n",
       "      <td>13.7</td>\n",
       "    </tr>\n",
       "  </tbody>\n",
       "</table>\n",
       "<p>3333 rows × 11 columns</p>\n",
       "</div>"
      ],
      "text/plain": [
       "      Churn  AccountWeeks  ContractRenewal  DataPlan  DataUsage  \\\n",
       "0         0           128                1         1       2.70   \n",
       "1         0           107                1         1       3.70   \n",
       "2         0           137                1         0       0.00   \n",
       "3         0            84                0         0       0.00   \n",
       "4         0            75                0         0       0.00   \n",
       "...     ...           ...              ...       ...        ...   \n",
       "3328      0           192                1         1       2.67   \n",
       "3329      0            68                1         0       0.34   \n",
       "3330      0            28                1         0       0.00   \n",
       "3331      0           184                0         0       0.00   \n",
       "3332      0            74                1         1       3.70   \n",
       "\n",
       "      CustServCalls  DayMins  DayCalls  MonthlyCharge  OverageFee  RoamMins  \n",
       "0                 1    265.1       110           89.0        9.87      10.0  \n",
       "1                 1    161.6       123           82.0        9.78      13.7  \n",
       "2                 0    243.4       114           52.0        6.06      12.2  \n",
       "3                 2    299.4        71           57.0        3.10       6.6  \n",
       "4                 3    166.7       113           41.0        7.42      10.1  \n",
       "...             ...      ...       ...            ...         ...       ...  \n",
       "3328              2    156.2        77           71.7       10.78       9.9  \n",
       "3329              3    231.1        57           56.4        7.67       9.6  \n",
       "3330              2    180.8       109           56.0       14.44      14.1  \n",
       "3331              2    213.8       105           50.0        7.98       5.0  \n",
       "3332              0    234.4       113          100.0       13.30      13.7  \n",
       "\n",
       "[3333 rows x 11 columns]"
      ]
     },
     "execution_count": 5,
     "metadata": {},
     "output_type": "execute_result"
    }
   ],
   "source": [
    "import pandas as pd\n",
    "data = pd.read_csv('/home/plokmit/csv/telecom_churn.csv')\n",
    "data"
   ]
  },
  {
   "cell_type": "markdown",
   "id": "f14d6e95",
   "metadata": {},
   "source": [
    "sklearn - библиотека с метриками, методами предобработки данных, моделями машинного обучения и многим другим."
   ]
  },
  {
   "cell_type": "markdown",
   "id": "97d431c1",
   "metadata": {},
   "source": [
    "Разделим табличку на признаки (то, чем можно пользоваться при предсказании) и метки (то, что мы собираемся предсказывать)"
   ]
  },
  {
   "cell_type": "code",
   "execution_count": 6,
   "id": "0b50ae25",
   "metadata": {},
   "outputs": [],
   "source": [
    "X = data.drop(columns='Churn')\n",
    "y = data['Churn']"
   ]
  },
  {
   "cell_type": "markdown",
   "id": "ae4768f5",
   "metadata": {},
   "source": [
    "Разбиваем массивы или матрицы на случайную последовательность и тестовые подмножества."
   ]
  },
  {
   "cell_type": "code",
   "execution_count": 7,
   "id": "a8069958",
   "metadata": {},
   "outputs": [],
   "source": [
    "from sklearn.model_selection import train_test_split\n",
    "X_train, X_valid, y_train, y_valid = train_test_split(X, y, test_size=0.25)"
   ]
  },
  {
   "cell_type": "markdown",
   "id": "ffc93861",
   "metadata": {},
   "source": [
    "Создадим объект, который делает класификацию по методу ближайших соседей\n",
    "n_neighbors=5 - гиперпараметр, который указывает сколько ближайших соседей мы учитываем"
   ]
  },
  {
   "cell_type": "code",
   "execution_count": 9,
   "id": "be2553d5",
   "metadata": {},
   "outputs": [
    {
     "data": {
      "text/html": [
       "<style>#sk-container-id-1 {color: black;}#sk-container-id-1 pre{padding: 0;}#sk-container-id-1 div.sk-toggleable {background-color: white;}#sk-container-id-1 label.sk-toggleable__label {cursor: pointer;display: block;width: 100%;margin-bottom: 0;padding: 0.3em;box-sizing: border-box;text-align: center;}#sk-container-id-1 label.sk-toggleable__label-arrow:before {content: \"▸\";float: left;margin-right: 0.25em;color: #696969;}#sk-container-id-1 label.sk-toggleable__label-arrow:hover:before {color: black;}#sk-container-id-1 div.sk-estimator:hover label.sk-toggleable__label-arrow:before {color: black;}#sk-container-id-1 div.sk-toggleable__content {max-height: 0;max-width: 0;overflow: hidden;text-align: left;background-color: #f0f8ff;}#sk-container-id-1 div.sk-toggleable__content pre {margin: 0.2em;color: black;border-radius: 0.25em;background-color: #f0f8ff;}#sk-container-id-1 input.sk-toggleable__control:checked~div.sk-toggleable__content {max-height: 200px;max-width: 100%;overflow: auto;}#sk-container-id-1 input.sk-toggleable__control:checked~label.sk-toggleable__label-arrow:before {content: \"▾\";}#sk-container-id-1 div.sk-estimator input.sk-toggleable__control:checked~label.sk-toggleable__label {background-color: #d4ebff;}#sk-container-id-1 div.sk-label input.sk-toggleable__control:checked~label.sk-toggleable__label {background-color: #d4ebff;}#sk-container-id-1 input.sk-hidden--visually {border: 0;clip: rect(1px 1px 1px 1px);clip: rect(1px, 1px, 1px, 1px);height: 1px;margin: -1px;overflow: hidden;padding: 0;position: absolute;width: 1px;}#sk-container-id-1 div.sk-estimator {font-family: monospace;background-color: #f0f8ff;border: 1px dotted black;border-radius: 0.25em;box-sizing: border-box;margin-bottom: 0.5em;}#sk-container-id-1 div.sk-estimator:hover {background-color: #d4ebff;}#sk-container-id-1 div.sk-parallel-item::after {content: \"\";width: 100%;border-bottom: 1px solid gray;flex-grow: 1;}#sk-container-id-1 div.sk-label:hover label.sk-toggleable__label {background-color: #d4ebff;}#sk-container-id-1 div.sk-serial::before {content: \"\";position: absolute;border-left: 1px solid gray;box-sizing: border-box;top: 0;bottom: 0;left: 50%;z-index: 0;}#sk-container-id-1 div.sk-serial {display: flex;flex-direction: column;align-items: center;background-color: white;padding-right: 0.2em;padding-left: 0.2em;position: relative;}#sk-container-id-1 div.sk-item {position: relative;z-index: 1;}#sk-container-id-1 div.sk-parallel {display: flex;align-items: stretch;justify-content: center;background-color: white;position: relative;}#sk-container-id-1 div.sk-item::before, #sk-container-id-1 div.sk-parallel-item::before {content: \"\";position: absolute;border-left: 1px solid gray;box-sizing: border-box;top: 0;bottom: 0;left: 50%;z-index: -1;}#sk-container-id-1 div.sk-parallel-item {display: flex;flex-direction: column;z-index: 1;position: relative;background-color: white;}#sk-container-id-1 div.sk-parallel-item:first-child::after {align-self: flex-end;width: 50%;}#sk-container-id-1 div.sk-parallel-item:last-child::after {align-self: flex-start;width: 50%;}#sk-container-id-1 div.sk-parallel-item:only-child::after {width: 0;}#sk-container-id-1 div.sk-dashed-wrapped {border: 1px dashed gray;margin: 0 0.4em 0.5em 0.4em;box-sizing: border-box;padding-bottom: 0.4em;background-color: white;}#sk-container-id-1 div.sk-label label {font-family: monospace;font-weight: bold;display: inline-block;line-height: 1.2em;}#sk-container-id-1 div.sk-label-container {text-align: center;}#sk-container-id-1 div.sk-container {/* jupyter's `normalize.less` sets `[hidden] { display: none; }` but bootstrap.min.css set `[hidden] { display: none !important; }` so we also need the `!important` here to be able to override the default hidden behavior on the sphinx rendered scikit-learn.org. See: https://github.com/scikit-learn/scikit-learn/issues/21755 */display: inline-block !important;position: relative;}#sk-container-id-1 div.sk-text-repr-fallback {display: none;}</style><div id=\"sk-container-id-1\" class=\"sk-top-container\"><div class=\"sk-text-repr-fallback\"><pre>KNeighborsClassifier()</pre><b>In a Jupyter environment, please rerun this cell to show the HTML representation or trust the notebook. <br />On GitHub, the HTML representation is unable to render, please try loading this page with nbviewer.org.</b></div><div class=\"sk-container\" hidden><div class=\"sk-item\"><div class=\"sk-estimator sk-toggleable\"><input class=\"sk-toggleable__control sk-hidden--visually\" id=\"sk-estimator-id-1\" type=\"checkbox\" checked><label for=\"sk-estimator-id-1\" class=\"sk-toggleable__label sk-toggleable__label-arrow\">KNeighborsClassifier</label><div class=\"sk-toggleable__content\"><pre>KNeighborsClassifier()</pre></div></div></div></div></div>"
      ],
      "text/plain": [
       "KNeighborsClassifier()"
      ]
     },
     "execution_count": 9,
     "metadata": {},
     "output_type": "execute_result"
    }
   ],
   "source": [
    "from sklearn.neighbors import KNeighborsClassifier\n",
    "knn = KNeighborsClassifier(n_neighbors=5)\n",
    "knn"
   ]
  },
  {
   "cell_type": "markdown",
   "id": "c94a56da",
   "metadata": {},
   "source": [
    "Вызовем метод .fit(X, y). Для моделей в sklearn этот метод вызывает обучение на предоставленных данных.\n",
    "\n",
    "X - матрица c размерностью [количество обучающих объектов x количество признаков для каждого объекта], в каждой клетке лежит значение конкрентного признака для конкретного объекта\n",
    "\n",
    "y - вектор с размерностью [количество обучающих объектов], в каждой клетке лежит 0 или 1. 0 - клиент остался с нами, 1 - клиент ушел.\n",
    "\n",
    "Метод к ближайших соседей на самом деле не учится, поэтмоу метод .fit(X, y) выполнится очень быстро -- объекту knn нужно просто запомнить данные, которые мы ему дали."
   ]
  },
  {
   "cell_type": "code",
   "execution_count": 10,
   "id": "bc09f4fe",
   "metadata": {},
   "outputs": [
    {
     "data": {
      "text/html": [
       "<style>#sk-container-id-2 {color: black;}#sk-container-id-2 pre{padding: 0;}#sk-container-id-2 div.sk-toggleable {background-color: white;}#sk-container-id-2 label.sk-toggleable__label {cursor: pointer;display: block;width: 100%;margin-bottom: 0;padding: 0.3em;box-sizing: border-box;text-align: center;}#sk-container-id-2 label.sk-toggleable__label-arrow:before {content: \"▸\";float: left;margin-right: 0.25em;color: #696969;}#sk-container-id-2 label.sk-toggleable__label-arrow:hover:before {color: black;}#sk-container-id-2 div.sk-estimator:hover label.sk-toggleable__label-arrow:before {color: black;}#sk-container-id-2 div.sk-toggleable__content {max-height: 0;max-width: 0;overflow: hidden;text-align: left;background-color: #f0f8ff;}#sk-container-id-2 div.sk-toggleable__content pre {margin: 0.2em;color: black;border-radius: 0.25em;background-color: #f0f8ff;}#sk-container-id-2 input.sk-toggleable__control:checked~div.sk-toggleable__content {max-height: 200px;max-width: 100%;overflow: auto;}#sk-container-id-2 input.sk-toggleable__control:checked~label.sk-toggleable__label-arrow:before {content: \"▾\";}#sk-container-id-2 div.sk-estimator input.sk-toggleable__control:checked~label.sk-toggleable__label {background-color: #d4ebff;}#sk-container-id-2 div.sk-label input.sk-toggleable__control:checked~label.sk-toggleable__label {background-color: #d4ebff;}#sk-container-id-2 input.sk-hidden--visually {border: 0;clip: rect(1px 1px 1px 1px);clip: rect(1px, 1px, 1px, 1px);height: 1px;margin: -1px;overflow: hidden;padding: 0;position: absolute;width: 1px;}#sk-container-id-2 div.sk-estimator {font-family: monospace;background-color: #f0f8ff;border: 1px dotted black;border-radius: 0.25em;box-sizing: border-box;margin-bottom: 0.5em;}#sk-container-id-2 div.sk-estimator:hover {background-color: #d4ebff;}#sk-container-id-2 div.sk-parallel-item::after {content: \"\";width: 100%;border-bottom: 1px solid gray;flex-grow: 1;}#sk-container-id-2 div.sk-label:hover label.sk-toggleable__label {background-color: #d4ebff;}#sk-container-id-2 div.sk-serial::before {content: \"\";position: absolute;border-left: 1px solid gray;box-sizing: border-box;top: 0;bottom: 0;left: 50%;z-index: 0;}#sk-container-id-2 div.sk-serial {display: flex;flex-direction: column;align-items: center;background-color: white;padding-right: 0.2em;padding-left: 0.2em;position: relative;}#sk-container-id-2 div.sk-item {position: relative;z-index: 1;}#sk-container-id-2 div.sk-parallel {display: flex;align-items: stretch;justify-content: center;background-color: white;position: relative;}#sk-container-id-2 div.sk-item::before, #sk-container-id-2 div.sk-parallel-item::before {content: \"\";position: absolute;border-left: 1px solid gray;box-sizing: border-box;top: 0;bottom: 0;left: 50%;z-index: -1;}#sk-container-id-2 div.sk-parallel-item {display: flex;flex-direction: column;z-index: 1;position: relative;background-color: white;}#sk-container-id-2 div.sk-parallel-item:first-child::after {align-self: flex-end;width: 50%;}#sk-container-id-2 div.sk-parallel-item:last-child::after {align-self: flex-start;width: 50%;}#sk-container-id-2 div.sk-parallel-item:only-child::after {width: 0;}#sk-container-id-2 div.sk-dashed-wrapped {border: 1px dashed gray;margin: 0 0.4em 0.5em 0.4em;box-sizing: border-box;padding-bottom: 0.4em;background-color: white;}#sk-container-id-2 div.sk-label label {font-family: monospace;font-weight: bold;display: inline-block;line-height: 1.2em;}#sk-container-id-2 div.sk-label-container {text-align: center;}#sk-container-id-2 div.sk-container {/* jupyter's `normalize.less` sets `[hidden] { display: none; }` but bootstrap.min.css set `[hidden] { display: none !important; }` so we also need the `!important` here to be able to override the default hidden behavior on the sphinx rendered scikit-learn.org. See: https://github.com/scikit-learn/scikit-learn/issues/21755 */display: inline-block !important;position: relative;}#sk-container-id-2 div.sk-text-repr-fallback {display: none;}</style><div id=\"sk-container-id-2\" class=\"sk-top-container\"><div class=\"sk-text-repr-fallback\"><pre>KNeighborsClassifier()</pre><b>In a Jupyter environment, please rerun this cell to show the HTML representation or trust the notebook. <br />On GitHub, the HTML representation is unable to render, please try loading this page with nbviewer.org.</b></div><div class=\"sk-container\" hidden><div class=\"sk-item\"><div class=\"sk-estimator sk-toggleable\"><input class=\"sk-toggleable__control sk-hidden--visually\" id=\"sk-estimator-id-2\" type=\"checkbox\" checked><label for=\"sk-estimator-id-2\" class=\"sk-toggleable__label sk-toggleable__label-arrow\">KNeighborsClassifier</label><div class=\"sk-toggleable__content\"><pre>KNeighborsClassifier()</pre></div></div></div></div></div>"
      ],
      "text/plain": [
       "KNeighborsClassifier()"
      ]
     },
     "execution_count": 10,
     "metadata": {},
     "output_type": "execute_result"
    }
   ],
   "source": [
    "knn.fit(X_train, y_train)"
   ]
  },
  {
   "cell_type": "markdown",
   "id": "eaa16aee",
   "metadata": {},
   "source": [
    "Теперь сделаем предсказания с помощью метода .predict(X). Заметьте, что в метод .fit(X, y) мы подавали матрицу с признаками и вектор с правильными ответами. В метод .predict(X) мы подаем только матрицу с признаками, потому что мы хотим сделать предсказание и предполагаем, что ответы нам могут быть недоступны.\n",
    "\n",
    "Номера колонок в матрице, которую мы подавали в .fit(X, y) и в .predict(X) должны совпадать. Т.е. если признак \"среднее число минут на звонок\" был третьим в матрице, которую мы подали в метод .fit(X,y), то он же должен быть третьим в матрице, которую мы подаем в метод .predict(X)"
   ]
  },
  {
   "cell_type": "code",
   "execution_count": 11,
   "id": "13f3c2ef",
   "metadata": {},
   "outputs": [
    {
     "data": {
      "text/plain": [
       "array([0, 0, 0, 0, 0, 0, 0, 0, 0, 0, 0, 0, 0, 0, 0, 1, 0, 0, 0, 0, 0, 0,\n",
       "       0, 0, 0, 1, 0, 0, 0, 0, 0, 0, 0, 0, 0, 0, 0, 0, 0, 0, 0, 0, 0, 0,\n",
       "       0, 0, 0, 0, 0, 1, 0, 0, 0, 0, 0, 0, 0, 0, 0, 1, 0, 0, 0, 0, 0, 0,\n",
       "       0, 0, 0, 0, 0, 0, 0, 0, 0, 0, 0, 0, 0, 0, 0, 0, 0, 0, 0, 0, 0, 1,\n",
       "       0, 0, 0, 0, 0, 0, 0, 0, 0, 1, 0, 0, 0, 0, 0, 0, 0, 0, 0, 0, 0, 0,\n",
       "       0, 0, 0, 0, 0, 0, 0, 0, 0, 0, 1, 0, 0, 0, 0, 0, 0, 0, 0, 0, 0, 0,\n",
       "       0, 0, 0, 0, 0, 0, 0, 0, 0, 0, 0, 0, 0, 0, 1, 0, 0, 0, 0, 0, 0, 0,\n",
       "       0, 0, 0, 0, 0, 0, 1, 0, 0, 0, 1, 1, 0, 0, 0, 0, 0, 0, 0, 0, 0, 0,\n",
       "       0, 0, 0, 1, 0, 0, 0, 0, 0, 0, 0, 0, 0, 0, 0, 0, 0, 0, 0, 0, 0, 0,\n",
       "       0, 1, 0, 0, 0, 0, 0, 0, 0, 0, 0, 0, 0, 0, 0, 0, 0, 0, 0, 0, 0, 0,\n",
       "       1, 0, 0, 1, 0, 0, 0, 0, 0, 0, 0, 0, 0, 0, 0, 0, 0, 0, 0, 0, 0, 1,\n",
       "       0, 0, 1, 0, 0, 0, 0, 0, 0, 0, 0, 0, 1, 0, 0, 0, 0, 0, 0, 0, 0, 0,\n",
       "       0, 0, 0, 0, 0, 0, 0, 0, 0, 0, 0, 0, 0, 0, 0, 0, 0, 0, 0, 0, 0, 0,\n",
       "       0, 0, 0, 0, 0, 0, 0, 0, 0, 0, 0, 0, 0, 0, 0, 0, 0, 0, 0, 0, 0, 0,\n",
       "       0, 0, 0, 0, 0, 0, 0, 0, 0, 0, 0, 0, 0, 0, 0, 0, 0, 0, 0, 0, 0, 0,\n",
       "       0, 0, 0, 0, 0, 0, 0, 0, 0, 1, 0, 0, 0, 0, 0, 0, 0, 0, 0, 0, 0, 0,\n",
       "       0, 0, 0, 0, 0, 0, 0, 0, 1, 0, 0, 0, 0, 0, 0, 0, 0, 0, 0, 0, 0, 0,\n",
       "       0, 0, 0, 0, 0, 0, 0, 0, 0, 0, 0, 0, 1, 0, 0, 0, 0, 1, 0, 0, 0, 0,\n",
       "       1, 0, 0, 0, 0, 0, 0, 0, 0, 1, 0, 0, 0, 0, 0, 0, 0, 0, 0, 0, 0, 0,\n",
       "       1, 0, 0, 1, 0, 0, 0, 0, 0, 0, 0, 0, 0, 0, 0, 0, 0, 0, 0, 0, 0, 0,\n",
       "       0, 0, 0, 0, 0, 0, 0, 0, 0, 0, 1, 0, 0, 0, 0, 0, 1, 0, 0, 0, 0, 0,\n",
       "       0, 0, 0, 0, 0, 0, 0, 0, 0, 0, 0, 0, 0, 1, 0, 0, 0, 0, 0, 0, 0, 0,\n",
       "       0, 1, 1, 0, 0, 0, 0, 0, 0, 0, 0, 0, 0, 0, 0, 0, 0, 0, 1, 0, 0, 0,\n",
       "       0, 0, 0, 0, 0, 0, 0, 0, 0, 0, 0, 0, 0, 1, 0, 0, 0, 0, 0, 0, 0, 0,\n",
       "       0, 0, 0, 0, 0, 0, 0, 0, 0, 0, 0, 1, 0, 0, 0, 0, 0, 0, 0, 0, 0, 0,\n",
       "       0, 0, 0, 0, 0, 0, 0, 0, 0, 0, 0, 0, 0, 0, 0, 1, 0, 0, 0, 0, 0, 0,\n",
       "       0, 1, 0, 0, 0, 0, 0, 0, 0, 1, 0, 0, 0, 0, 0, 0, 0, 0, 0, 0, 0, 0,\n",
       "       0, 1, 0, 0, 0, 0, 0, 0, 0, 0, 0, 0, 0, 0, 0, 0, 0, 0, 0, 0, 0, 0,\n",
       "       0, 0, 0, 0, 1, 0, 0, 0, 0, 1, 0, 0, 0, 0, 0, 0, 0, 0, 0, 0, 0, 0,\n",
       "       1, 0, 0, 0, 0, 0, 0, 0, 0, 0, 0, 0, 0, 0, 0, 0, 1, 0, 0, 0, 0, 0,\n",
       "       0, 0, 0, 0, 0, 0, 0, 0, 0, 0, 0, 0, 0, 1, 0, 0, 0, 0, 1, 0, 0, 0,\n",
       "       0, 0, 0, 0, 0, 0, 0, 0, 0, 0, 0, 0, 0, 0, 0, 1, 0, 0, 0, 1, 0, 0,\n",
       "       0, 0, 0, 0, 0, 0, 0, 1, 0, 1, 0, 0, 0, 0, 0, 0, 0, 0, 0, 0, 0, 0,\n",
       "       0, 0, 0, 0, 0, 0, 0, 0, 0, 0, 0, 0, 0, 0, 0, 0, 0, 0, 0, 0, 0, 0,\n",
       "       0, 0, 0, 0, 0, 0, 0, 0, 0, 0, 0, 1, 0, 0, 0, 0, 0, 0, 0, 0, 0, 0,\n",
       "       1, 0, 0, 0, 0, 0, 0, 0, 0, 0, 0, 0, 1, 0, 0, 0, 0, 0, 0, 0, 0, 0,\n",
       "       0, 0, 0, 0, 0, 0, 0, 0, 0, 0, 0, 0, 0, 0, 0, 1, 0, 0, 0, 0, 0, 0,\n",
       "       0, 0, 0, 0, 0, 0, 0, 0, 0, 0, 0, 0, 0, 0, 0, 0, 0, 0, 0, 0])"
      ]
     },
     "execution_count": 11,
     "metadata": {},
     "output_type": "execute_result"
    }
   ],
   "source": [
    "preds_valid = knn.predict(X_valid)\n",
    "preds_valid"
   ]
  },
  {
   "cell_type": "markdown",
   "id": "8f4549be",
   "metadata": {},
   "source": [
    "После получения предсказаний нужно проверить, насколько они получились хорошими. Воспользуемся метрикой accuracy"
   ]
  },
  {
   "cell_type": "code",
   "execution_count": 12,
   "id": "fb2ce457",
   "metadata": {},
   "outputs": [
    {
     "name": "stdout",
     "output_type": "stream",
     "text": [
      "Accuracy=0.8717026378896883\n"
     ]
    }
   ],
   "source": [
    "from sklearn.metrics import accuracy_score, roc_auc_score, precision_score, recall_score\n",
    "print(f'Accuracy={accuracy_score(y_valid, preds_valid)}')"
   ]
  },
  {
   "cell_type": "code",
   "execution_count": 13,
   "id": "bf2ef0bd",
   "metadata": {},
   "outputs": [
    {
     "name": "stdout",
     "output_type": "stream",
     "text": [
      "Precision=0.5769230769230769\n",
      "Recall=0.2608695652173913\n"
     ]
    }
   ],
   "source": [
    "print(f'Precision={precision_score(y_valid, preds_valid)}')\n",
    "print(f'Recall={recall_score(y_valid, preds_valid)}')"
   ]
  },
  {
   "cell_type": "markdown",
   "id": "55a2c96a",
   "metadata": {},
   "source": [
    "**Приступаем к анализу данных**\n",
    "Посчитаем среднее в целевой переменной, чтобы понять соотношение классов (В идеале тех, кто собирается уйти и тех кто хочет остаться - 50/50)"
   ]
  },
  {
   "cell_type": "code",
   "execution_count": 14,
   "id": "a08c91a0",
   "metadata": {},
   "outputs": [
    {
     "data": {
      "text/plain": [
       "0.14491449144914492"
      ]
     },
     "execution_count": 14,
     "metadata": {},
     "output_type": "execute_result"
    }
   ],
   "source": [
    "data['Churn'].mean()"
   ]
  },
  {
   "cell_type": "markdown",
   "id": "a2e8494a",
   "metadata": {},
   "source": [
    "14% из всех хотели уйти. Соотношение неровное\n",
    "Теперь ищем nan\n"
   ]
  },
  {
   "cell_type": "code",
   "execution_count": 16,
   "id": "8abb6aa9",
   "metadata": {},
   "outputs": [
    {
     "data": {
      "text/plain": [
       "AccountWeeks       0\n",
       "ContractRenewal    0\n",
       "DataPlan           0\n",
       "DataUsage          0\n",
       "CustServCalls      0\n",
       "DayMins            0\n",
       "DayCalls           0\n",
       "MonthlyCharge      0\n",
       "OverageFee         0\n",
       "RoamMins           0\n",
       "dtype: int64"
      ]
     },
     "execution_count": 16,
     "metadata": {},
     "output_type": "execute_result"
    }
   ],
   "source": [
    "X.isna().sum()"
   ]
  },
  {
   "cell_type": "code",
   "execution_count": 17,
   "id": "8757279f",
   "metadata": {},
   "outputs": [
    {
     "name": "stdout",
     "output_type": "stream",
     "text": [
      "<class 'pandas.core.frame.DataFrame'>\n",
      "RangeIndex: 3333 entries, 0 to 3332\n",
      "Data columns (total 10 columns):\n",
      " #   Column           Non-Null Count  Dtype  \n",
      "---  ------           --------------  -----  \n",
      " 0   AccountWeeks     3333 non-null   int64  \n",
      " 1   ContractRenewal  3333 non-null   int64  \n",
      " 2   DataPlan         3333 non-null   int64  \n",
      " 3   DataUsage        3333 non-null   float64\n",
      " 4   CustServCalls    3333 non-null   int64  \n",
      " 5   DayMins          3333 non-null   float64\n",
      " 6   DayCalls         3333 non-null   int64  \n",
      " 7   MonthlyCharge    3333 non-null   float64\n",
      " 8   OverageFee       3333 non-null   float64\n",
      " 9   RoamMins         3333 non-null   float64\n",
      "dtypes: float64(5), int64(5)\n",
      "memory usage: 260.5 KB\n"
     ]
    }
   ],
   "source": [
    "X.info()"
   ]
  },
  {
   "cell_type": "markdown",
   "id": "3e15d4f3",
   "metadata": {},
   "source": [
    "Если признак бинарный, то все ок, если категориальных признаков больше - используем one-hot-encoding"
   ]
  },
  {
   "attachments": {},
   "cell_type": "markdown",
   "id": "e18a90af",
   "metadata": {},
   "source": [
    "*Что делать с категориальными признаками\n",
    "Очень многие алогритмы на вход требуют вектора из обычных чисел. Если у нас есть категориальный признак, то он обычно кодируется с помощью целых чисел (0, 1, 2, итд) или с помощью строчек.*\n",
    "\n",
    "people_data_one_hot = pd.get_dummies(people_data, columns=['City', 'Name'])\n",
    "people_data_one_hot"
   ]
  },
  {
   "cell_type": "markdown",
   "id": "cf8792d4",
   "metadata": {},
   "source": [
    "**Стандартизируем признаки/**\n",
    "\n",
    "\n",
    "Представим, что по оси x1 - площадь квартиры в десятках квадратных метров, а по оси x2 - оценка продавцом уровня шума в квартире из-за дороги. Из-за того, что единицы измерения по оси x2 другие, то ось x1 имеет очень мало веса."
   ]
  },
  {
   "cell_type": "markdown",
   "id": "adad74de",
   "metadata": {},
   "source": [
    "Познакомимся с новым типом объектов в sklearn: Transformer. У них есть два основных метода .fit() и .transform(). Эти объекты каким-то образом учатся на обучающей выборке и потом могут преобразовывать данные. В нашем случае, Standard Scaler при обучении запоминает среднее и дисперсию для каждого признака. После он нормирует данные, используя их.\n",
    "\n",
    "xnew=(x−mean)/std \n",
    "\n",
    "Вообще, нормировать признаки стоит почти всегда. Это очень важно для\n",
    "\n",
    "Метрических алогритмов\n",
    "Линейных алогритмов (мы еще узнаем, что признаки хорошо не только отнормировать, но и как можно сильнее приблизить их распределение к нормальному). Сюда относятся как всевозможные регрессии, так и PCA, который мы используем ниже.\n",
    "Нормировка не важна разве что для алгоритмов, основанных на решающих деревьях (следующее занятие)."
   ]
  },
  {
   "cell_type": "code",
   "execution_count": 18,
   "id": "e318bcc4",
   "metadata": {},
   "outputs": [],
   "source": [
    "from sklearn.preprocessing import StandardScaler\n",
    "scaler = StandardScaler()"
   ]
  },
  {
   "cell_type": "code",
   "execution_count": 19,
   "id": "25558dc1",
   "metadata": {},
   "outputs": [],
   "source": [
    "scaler.fit(X_train, y_train)\n",
    "X_train_normed = scaler.transform(X_train)\n",
    "X_valid_normed = scaler.transform(X_valid)"
   ]
  },
  {
   "cell_type": "code",
   "execution_count": 20,
   "id": "cb89d8eb",
   "metadata": {},
   "outputs": [
    {
     "name": "stdout",
     "output_type": "stream",
     "text": [
      "Accuracy=0.9124700239808153\n"
     ]
    }
   ],
   "source": [
    "# Модель\n",
    "knn = KNeighborsClassifier(n_neighbors=5)\n",
    "knn.fit(X_train_normed, y_train)\n",
    "preds_valid = knn.predict(X_valid_normed)\n",
    "\n",
    "# Тестирование\n",
    "print(f'Accuracy={accuracy_score(y_valid, preds_valid)}')"
   ]
  },
  {
   "cell_type": "code",
   "execution_count": 21,
   "id": "ac32f0de",
   "metadata": {},
   "outputs": [
    {
     "name": "stdout",
     "output_type": "stream",
     "text": [
      "Precision=0.7837837837837838\n",
      "Recall=0.5043478260869565\n"
     ]
    }
   ],
   "source": [
    "print(f'Precision={precision_score(y_valid, preds_valid)}')\n",
    "print(f'Recall={recall_score(y_valid, preds_valid)}')"
   ]
  },
  {
   "cell_type": "code",
   "execution_count": null,
   "id": "39df727f",
   "metadata": {},
   "outputs": [],
   "source": []
  }
 ],
 "metadata": {
  "kernelspec": {
   "display_name": "Python 3 (ipykernel)",
   "language": "python",
   "name": "python3"
  },
  "language_info": {
   "codemirror_mode": {
    "name": "ipython",
    "version": 3
   },
   "file_extension": ".py",
   "mimetype": "text/x-python",
   "name": "python",
   "nbconvert_exporter": "python",
   "pygments_lexer": "ipython3",
   "version": "3.11.4"
  }
 },
 "nbformat": 4,
 "nbformat_minor": 5
}
