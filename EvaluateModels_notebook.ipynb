{
 "cells": [
  {
   "cell_type": "markdown",
   "id": "f12b42f8",
   "metadata": {},
   "source": [
    "**Перекрестная проверка моделей**"
   ]
  },
  {
   "cell_type": "markdown",
   "id": "62a9b0e1",
   "metadata": {},
   "source": [
    "Создать конвейер, который предварительно обрабатывает данные, тренирует\n",
    "модель, а затем оценивает ее с помощью перекрестной проверки:"
   ]
  },
  {
   "cell_type": "code",
   "execution_count": 4,
   "id": "a04fa662",
   "metadata": {},
   "outputs": [
    {
     "name": "stderr",
     "output_type": "stream",
     "text": [
      "/home/plokmit/anaconda3/envs/myenvconda/lib/python3.11/site-packages/sklearn/linear_model/_logistic.py:460: ConvergenceWarning: lbfgs failed to converge (status=1):\n",
      "STOP: TOTAL NO. of ITERATIONS REACHED LIMIT.\n",
      "\n",
      "Increase the number of iterations (max_iter) or scale the data as shown in:\n",
      "    https://scikit-learn.org/stable/modules/preprocessing.html\n",
      "Please also refer to the documentation for alternative solver options:\n",
      "    https://scikit-learn.org/stable/modules/linear_model.html#logistic-regression\n",
      "  n_iter_i = _check_optimize_result(\n",
      "/home/plokmit/anaconda3/envs/myenvconda/lib/python3.11/site-packages/sklearn/linear_model/_logistic.py:460: ConvergenceWarning: lbfgs failed to converge (status=1):\n",
      "STOP: TOTAL NO. of ITERATIONS REACHED LIMIT.\n",
      "\n",
      "Increase the number of iterations (max_iter) or scale the data as shown in:\n",
      "    https://scikit-learn.org/stable/modules/preprocessing.html\n",
      "Please also refer to the documentation for alternative solver options:\n",
      "    https://scikit-learn.org/stable/modules/linear_model.html#logistic-regression\n",
      "  n_iter_i = _check_optimize_result(\n"
     ]
    },
    {
     "data": {
      "text/plain": [
       "0.9693916821849783"
      ]
     },
     "execution_count": 4,
     "metadata": {},
     "output_type": "execute_result"
    }
   ],
   "source": [
    "# Загрузить библиотеки\n",
    "from sklearn import datasets\n",
    "from sklearn import metrics\n",
    "from sklearn.model_selection import KFold, cross_val_score\n",
    "from sklearn.pipeline import make_pipeline\n",
    "from sklearn.linear_model import LogisticRegression\n",
    "from sklearn.preprocessing import StandardScaler\n",
    "# Загрузить набор данных рукописных цифр\n",
    "digits = datasets.load_digits()\n",
    "# Создать матрицу признаков\n",
    "features = digits.data\n",
    "# Создать вектор целей\n",
    "target = digits.target\n",
    "# Создать стандартизатор\n",
    "standardizer = StandardScaler()\n",
    "# Создать объект логистической регрессии\n",
    "logit = LogisticRegression()\n",
    "# Создать конвейер, который стандартизирует,\n",
    "# затем выполняет логистическую регрессию\n",
    "pipeline = make_pipeline(standardizer, logit)\n",
    "# Создать k-блочную перекрестную проверку\n",
    "kf = KFold(n_splits=10, shuffle=True, random_state=1)\n",
    "# Выполнить k-блочную перекрестную проверку\n",
    "cv_results = cross_val_score(pipeline, # Конвейер\n",
    "features, # Матрица признаков\n",
    "target, # Вектор целей\n",
    "cv=kf, # Метод перекрестной проверки\n",
    "scoring=\"accuracy\", # Функция потери\n",
    "n_jobs=-1) # Использовать все ядра CPU\n",
    "# Вычислить среднее значение\n",
    "cv_results.mean()"
   ]
  },
  {
   "cell_type": "markdown",
   "id": "cbf0c7cb",
   "metadata": {},
   "source": [
    "Одной из стратегий может быть откладывание среза данных для тестирования. Он\n",
    "называется контрольным (или отложенным) набором. В обычной проверке наши\n",
    "наблюдения (признаки и цели) разбиваются на два набора, традиционно называемые тренировочным набором и тестовым набором. Мы берем тестовый набор и\n",
    "откладываем его в сторону, делая вид, что никогда его раньше не видели. Затем мы\n",
    "тренируем нашу модель, применяя наш тренировочный набор с использованием\n",
    "признаков и вектора целей, чтобы научить модель тому, как делать наилучшее\n",
    "предсказание. Наконец, мы симулируем, что никогда раньше не видели внешних\n",
    "данных, и оцениваем то, как наша модель, натренированная на нашем тренировочном наборе, работает на нашем тестовом наборе. Однако этот проверочный подход\n",
    "имеет два основных недостатка. Во-первых, результативность модели может сильно зависеть от того, какое количество наблюдений было выбрано для тестового набора. Во-вторых, модель не тренируется с использованием всех имеющихся данных\n",
    "и не оценивается по всем имеющимся данным.\n",
    "\n",
    "Более оптимальная стратегия, которая преодолевает эти недостатки, называется\n",
    "к-блочной перекрестной проверкой (k-fold cross-validation, KFCV). В ^-блочной перекрестной проверке мы разделяем данные на к частей, называемых \"блоками\".\n",
    "Модель обучается с помощью к - 1 блоков, объединенных в один тренировочный\n",
    "набор, и затем последний блок используется в качестве тестового набора. Мы повторяем это к раз, на очередном шаге в качестве тестового набора используя другой\n",
    "блок. Затем результативность модели для каждой из к итераций усредняется для\n",
    "получения общей меры."
   ]
  },
  {
   "cell_type": "markdown",
   "id": "effc36ad",
   "metadata": {},
   "source": [
    "В нашем решении мы провели ^-блочную перекрестную проверку с использованием 10 блоков и вывели оценки в cv resuits:"
   ]
  },
  {
   "cell_type": "code",
   "execution_count": 5,
   "id": "424e5b0f",
   "metadata": {},
   "outputs": [
    {
     "data": {
      "text/plain": [
       "array([0.97777778, 0.98888889, 0.96111111, 0.94444444, 0.97777778,\n",
       "       0.98333333, 0.95555556, 0.98882682, 0.97765363, 0.93854749])"
      ]
     },
     "execution_count": 5,
     "metadata": {},
     "output_type": "execute_result"
    }
   ],
   "source": [
    "cv_results"
   ]
  },
  {
   "cell_type": "markdown",
   "id": "cb16b5a2",
   "metadata": {},
   "source": [
    "Когда мы используем ^-блочную перекрестную проверку, следует учесть несколько\n",
    "важных моментов. Во-первых, А:-блочная перекрестная проверка исходит из того,\n",
    "что каждое наблюдение было создано независимо от другого (т. е. данные являются\n",
    "независимыми одинаково распределенными [IID]). Если данные являются независимыми одинаково распределенными, то при назначении блоков рекомендуется\n",
    "наблюдения перетасовывать. В библиотеке scikit-leam можно установить\n",
    "shuffie=True для выполнения перетасовки.\n",
    "\n",
    "Во-вторых, когда мы используем ^-блочную перекрестную проверку для оценивания классификатора, часто полезно иметь блоки, содержащие примерно одинаковый процент наблюдений из каждого отдельного целевого класса. Такая проверка\n",
    "называется стратифицированной к-блочной. Например, если бы наш вектор целей\n",
    "содержал пол, и 80% наблюдений были бы мужского пола, то каждый блок содержал бы 80% наблюдений с мужским полом и 20% наблюдений с женским полом.\n",
    "В библиотеке scikit-leam можно проводить стратифицированную ^-блочную перекрестную Проверку, ПОМеНЯВ КЛаСС KFold На КЛаСС StratifiedKFold.\n",
    "\n",
    "Наконец, при использовании перекрестно-проверочных наборов или перекрестной\n",
    "проверки важно предварительно обработать данные на основе тренировочного набора, а затем применить эти преобразования к обоим наборам: тренировочному и\n",
    "тестовому. Например, когда мы выполняем подгонку (с помощью метода fit) нашего объекта стандартизации, standardize^ мы вычисляем среднее и дисперсию\n",
    "только тренировочного набора. Затем мы применяем это преобразование (с помощью метода transform) и к тренировочному, и к тестовому наборам:"
   ]
  },
  {
   "cell_type": "code",
   "execution_count": 8,
   "id": "c1d4e300",
   "metadata": {},
   "outputs": [],
   "source": [
    "# Импортировать библиотеку\n",
    "from sklearn.model_selection import train_test_split\n",
    "# Создать тренировочный и тестовый наборы\n",
    "features_train, features_test, target_train, target_test = train_test_split(\n",
    "features, target, test_size=0.1, random_state=1)\n",
    "# Выполнить подгонку стандартизатора к тренировочному набору\n",
    "standardizer.fit(features_train)\n",
    "# Применить к обоим наборам: тренировочному и тестовому\n",
    "features_train_std = standardizer.transform(features_train)\n",
    "features_test_std = standardizer.transform(features_test)"
   ]
  },
  {
   "cell_type": "markdown",
   "id": "45c47b54",
   "metadata": {},
   "source": [
    "Здесь мы делаем вид, будто тестовый набор содержит неизвестные данные. Если\n",
    "мы выполним подгонку обоих наших препроцессоров, используя наблюдения из\n",
    "тренировочного и тестового наборов, то часть информации из тестового набора\n",
    "просочится в наш тренировочный набор. Это правило применимо для любого шага\n",
    "предобработки, например для отбора признаков.\n",
    "Пакет pipeline библиотеки scikit-leam упрощает задачу при использовании методов\n",
    "перекрестной проверки. Сначала мы создаем конвейер, который предварительно\n",
    "обрабатывает данные (например, standardizer), а затем тренирует модель (логистическая регрессия, logit):"
   ]
  },
  {
   "cell_type": "code",
   "execution_count": 9,
   "id": "a3d4c886",
   "metadata": {},
   "outputs": [],
   "source": [
    "# Создать конвейер\n",
    "pipeline = make_pipeline(standardizer, logit)"
   ]
  },
  {
   "cell_type": "markdown",
   "id": "a181d4e5",
   "metadata": {},
   "source": [
    "Затем мы запускаем ^-блочную перекрестную проверку, используя этот конвейер,\n",
    "и библиотека scikit-leam делает всю работу за нас:"
   ]
  },
  {
   "cell_type": "code",
   "execution_count": 11,
   "id": "63973520",
   "metadata": {},
   "outputs": [
    {
     "name": "stderr",
     "output_type": "stream",
     "text": [
      "/home/plokmit/anaconda3/envs/myenvconda/lib/python3.11/site-packages/sklearn/linear_model/_logistic.py:460: ConvergenceWarning: lbfgs failed to converge (status=1):\n",
      "STOP: TOTAL NO. of ITERATIONS REACHED LIMIT.\n",
      "\n",
      "Increase the number of iterations (max_iter) or scale the data as shown in:\n",
      "    https://scikit-learn.org/stable/modules/preprocessing.html\n",
      "Please also refer to the documentation for alternative solver options:\n",
      "    https://scikit-learn.org/stable/modules/linear_model.html#logistic-regression\n",
      "  n_iter_i = _check_optimize_result(\n",
      "/home/plokmit/anaconda3/envs/myenvconda/lib/python3.11/site-packages/sklearn/linear_model/_logistic.py:460: ConvergenceWarning: lbfgs failed to converge (status=1):\n",
      "STOP: TOTAL NO. of ITERATIONS REACHED LIMIT.\n",
      "\n",
      "Increase the number of iterations (max_iter) or scale the data as shown in:\n",
      "    https://scikit-learn.org/stable/modules/preprocessing.html\n",
      "Please also refer to the documentation for alternative solver options:\n",
      "    https://scikit-learn.org/stable/modules/linear_model.html#logistic-regression\n",
      "  n_iter_i = _check_optimize_result(\n"
     ]
    }
   ],
   "source": [
    "# Выполнить k-блочную перекрестную проверку\n",
    "cv_results = cross_val_score(pipeline, # Конвейер\n",
    "features, # Матрица признаков\n",
    "target, # Вектор целей\n",
    "cv=kf, # Метод перекрестной проверки\n",
    "scoring=\"accuracy\", # Функция потери\n",
    "n_jobs=-1) # Использовать все ядра CPU"
   ]
  },
  {
   "cell_type": "code",
   "execution_count": null,
   "id": "a3bcab78",
   "metadata": {},
   "outputs": [],
   "source": []
  },
  {
   "cell_type": "markdown",
   "id": "41e7635a",
   "metadata": {},
   "source": [
    "Метод cross vai score сопровождается тремя параметрами, которые мы не обсуждали, и их стоит отметить. Параметр cv определяет нашу методику перекрестной\n",
    "проверки, .^-блочный метод является наиболее распространенным на сегодняшний\n",
    "день, но есть и другие, такие как перекрестная проверка с исключением по одному\n",
    "(leave-one-out), где количество блоков к равно количеству наблюдений. Параметр scoring определяет наш метрический показатель успеха, некоторые из метрических\n",
    "показателей успеха обсуждаются в других рецептах в этой главе. Наконец, n_jobs=-i\n",
    "предписывает библиотеке scikit-leam использовать все доступные ядра CPU. Например, если ваш компьютер имеет четыре ядра (распространенное количество для\n",
    "ноутбуков), то для ускорения работы библиотека scikit-leam будет использовать все\n",
    "четыре ядра сразу."
   ]
  },
  {
   "cell_type": "markdown",
   "id": "b1ddfc55",
   "metadata": {},
   "source": [
    "Однако часто данных недостаточно, чтобы часть из них можно было сохранить для тестирования. Более сложной версией обучающих / тестовых наборов является перекрестная проверка без исключения (LOOCV), при которой показатели точности получаются следующим образом. Предположим, что имеется nn независимых наблюдений, y1,...,yn\n",
    "\n",
    "1. Пусть наблюдение i сформирует набор тестов и подгонит модель, используя оставшиеся данные. Затем вычислите ошибку (ei*=yi-<u>yi</u>)\n",
    " для пропущенного наблюдения. Это иногда называют “прогнозируемым остатком”, чтобы отличать его от обычного остатка.\n",
    "2. Повторите шаг 1 для i=1,...,n.\n",
    "3. Вычислите MSE из e1*,...,en*. Мы будем называть это резюме."
   ]
  },
  {
   "cell_type": "markdown",
   "id": "d89fa183",
   "metadata": {},
   "source": [
    "Это гораздо более эффективное использование доступных данных, поскольку вы пропускаете только одно наблюдение на каждом шаге. Однако его реализация может занять очень много времени (за исключением линейных моделей — см. Ниже)."
   ]
  },
  {
   "cell_type": "markdown",
   "id": "a2b3a68a",
   "metadata": {},
   "source": [
    "https://betatim.github.io/posts/cross-validation-gone-wrong/"
   ]
  },
  {
   "cell_type": "markdown",
   "id": "0154860f",
   "metadata": {},
   "source": [
    " **Создание\n",
    "базовой регрессионной модели**"
   ]
  },
  {
   "cell_type": "markdown",
   "id": "9e0f3696",
   "metadata": {},
   "source": [
    "В качестве ориентира требуется простая базовая регрессионная модель для сравнения с вашей моделью."
   ]
  },
  {
   "cell_type": "markdown",
   "id": "c0c057f5",
   "metadata": {},
   "source": [
    " Фиктивная модель - это модель, которая предсказывает, просто угадывая или используя простое правило. Например, для классификации случайным образом присваивается класс или просто используется класс большинства; для регрессии используется только среднее значение. Она служит базовым эталоном и проверкой работоспособности.\n",
    " \n",
    " Регрессор, который делает прогнозы, используя простые правила.\n",
    "\n",
    "Этот регрессор полезен в качестве простой базовой линии для сравнения с другими (реальными) регрессорами. Не используйте его для решения реальных проблем."
   ]
  },
  {
   "cell_type": "code",
   "execution_count": 16,
   "id": "dad32218",
   "metadata": {},
   "outputs": [
    {
     "data": {
      "text/plain": [
       "-0.03499875559980081"
      ]
     },
     "execution_count": 16,
     "metadata": {},
     "output_type": "execute_result"
    }
   ],
   "source": [
    "# Загрузить библиотеки\n",
    "from sklearn.datasets import load_iris\n",
    "from sklearn.dummy import DummyRegressor\n",
    "from sklearn.model_selection import train_test_split\n",
    "# Загрузить данные\n",
    "boston = load_iris()\n",
    "# Создать матрицу признаков и вектор целей\n",
    "features, target = boston.data, boston.target\n",
    "# Разбить на тренировочный и тестовый наборы\n",
    "features_train, features_test, target_train, target_test = train_test_split(features, target, random_state=0)\n",
    "# Создать фиктивный регрессор\n",
    "dummy = DummyRegressor(strategy='mean')\n",
    "# \"Натренировать\" фиктивный регрессор\n",
    "dummy.fit(features_train, target_train)\n",
    "# Получить оценку коэффициента детерминации (R-squared)\n",
    "dummy.score(features_test, target_test)"
   ]
  },
  {
   "cell_type": "markdown",
   "id": "0e2868d1",
   "metadata": {},
   "source": [
    "Для сравнения, мы тренируем нашу модель и вычисляем оценку результативности:"
   ]
  },
  {
   "cell_type": "code",
   "execution_count": 18,
   "id": "4108b35c",
   "metadata": {},
   "outputs": [
    {
     "data": {
      "text/plain": [
       "0.8886123598795971"
      ]
     },
     "execution_count": 18,
     "metadata": {},
     "output_type": "execute_result"
    }
   ],
   "source": [
    "# Загрузить библиотеку\n",
    "from sklearn.linear_model import LinearRegression\n",
    "# Натренировать простую линейно-регрессионную модель\n",
    "ols = LinearRegression()\n",
    "ols.fit(features_train, target_train)\n",
    "# Получить оценку коэффициента детерминации (R-squared)\n",
    "ols.score(features_test, target_test)"
   ]
  },
  {
   "cell_type": "markdown",
   "id": "44a931e2",
   "metadata": {},
   "source": [
    "Фиктивный регрессор DummyRegressor позволяет нам создавать очень простую модель, которую можно использовать в качестве ориентира для сравнения с нашей\n",
    "реальной моделью. Это часто может быть полезно с целью симулировать \"наивный\" существующий предсказательный процесс в программном продукте или системе. Например, программный продукт может быть изначально жестко запрограммирован допускать, что все новые пользователи будут тратить $100 в первый\n",
    "месяц, независимо от их признаков. Если мы закодируем это допущение в базовую\n",
    "модель, то сможем вещественно заявить о преимуществах применения подхода на\n",
    "основе машинного самообучения.\n",
    "\n",
    "В классе DummyRegressor используется параметр strategy для задания метода предсказания, включая среднее или медианное значение в тренировочном наборе. Более\n",
    "того, если присвоить параметру strategy значение constant и учесть параметр\n",
    "constant, мы сможем заставить фиктивный регрессор предсказывать некоторое постоянное значение для каждого наблюдения:"
   ]
  },
  {
   "cell_type": "code",
   "execution_count": null,
   "id": "46a65343",
   "metadata": {},
   "outputs": [],
   "source": [
    "# Создать фиктивный регрессор, который\n",
    "# предсказывает 20 для всех наблюдений\n",
    "elf = DummyRegressor(strategy='constant', constant=20)\n",
    "elf.fit(features_train, target_train)\n",
    "# Вычислить оценку\n",
    "elf.score(features_test, target_test)"
   ]
  },
  {
   "cell_type": "markdown",
   "id": "2b90b5cb",
   "metadata": {},
   "source": [
    "Одно небольшое замечание о методе score. По умолчанию данный метод возвращает оценку коэффициента детерминации (R-squared, R2)‘:"
   ]
  },
  {
   "cell_type": "markdown",
   "id": "29a041c3",
   "metadata": {},
   "source": [
    "**Создание\n",
    "базовой классификационной модели**"
   ]
  },
  {
   "cell_type": "code",
   "execution_count": 4,
   "id": "ad48acd1",
   "metadata": {},
   "outputs": [
    {
     "data": {
      "text/plain": [
       "0.42105263157894735"
      ]
     },
     "execution_count": 4,
     "metadata": {},
     "output_type": "execute_result"
    }
   ],
   "source": [
    "# Загрузить библиотеки\n",
    "from sklearn.datasets import load_iris\n",
    "from sklearn.dummy import DummyClassifier\n",
    "from sklearn.model_selection import train_test_split\n",
    "# Загрузить данные\n",
    "iris = load_iris()\n",
    "\n",
    "# Создать матрицу признаков и вектор целей\n",
    "features, target = iris.data, iris.target\n",
    "# Разбить на тренировочный и тестовый наборы\n",
    "features_train, features_test, target_train, target_test = train_test_split(features, target, random_state=0)\n",
    "# Создать фиктивный классификатор\n",
    "dummy = DummyClassifier(strategy='uniform', random_state=1)\n",
    "# \"Натренировать\" модель\n",
    "dummy.fit(features_train, target_train)\n",
    "# Получить оценку точности\n",
    "dummy.score(features_test, target_test)"
   ]
  },
  {
   "cell_type": "markdown",
   "id": "f3997ab7",
   "metadata": {},
   "source": [
    "Путем сопоставления базового классификатора с нашим натренированным классификатором можно увидеть улучшение:"
   ]
  },
  {
   "cell_type": "code",
   "execution_count": 5,
   "id": "68f85be6",
   "metadata": {},
   "outputs": [
    {
     "data": {
      "text/plain": [
       "0.9736842105263158"
      ]
     },
     "execution_count": 5,
     "metadata": {},
     "output_type": "execute_result"
    }
   ],
   "source": [
    "# Загрузить библиотеку\n",
    "from sklearn.ensemble import RandomForestClassifier\n",
    "# Создать классификатор случайного леса\n",
    "classifier = RandomForestClassifier()\n",
    "# Натренировать модель\n",
    "classifier.fit(features_train, target_train)\n",
    "# Получить оценку точности\n",
    "classifier.score(features_test, target_test)"
   ]
  },
  {
   "cell_type": "markdown",
   "id": "5cb6c483",
   "metadata": {},
   "source": [
    "Общепринятая мера результативности классификатора — показатель, насколько он\n",
    "лучше, чем случайное угадывание. Фиктивный классификатор DummyClassifier библиотеки scikit-leam облегчает выполнение такого сравнения. Параметр strategy\n",
    "предоставляет ряд вариантов для генерации значений. Есть две особенно полезных\n",
    "стратегии. Во-первых, стратегия stratified делает предсказания, которые пропорциональны долям классов вектора целей в тренировочном наборе (т. е. если 20%\n",
    "наблюдений в тренировочных данных составляют женщины, то фиктивный классификатор DummyClassifier будет предсказывать женщин в 20% случаях). Во-вторых, стратегия uniform будет генерировать предсказания случайным образом между\n",
    "разными классами. Например, если 20% наблюдений — женщины и 80% — мужчины, то стратегия uniform будет давать предсказания, которые составят 50% женщин и 50% мужчин."
   ]
  },
  {
   "cell_type": "markdown",
   "id": "3079bdff",
   "metadata": {},
   "source": [
    "**Оценивание предсказаний\n",
    "бинарного классификатора**"
   ]
  },
  {
   "cell_type": "markdown",
   "id": "10310bb2",
   "metadata": {},
   "source": [
    "Применить метод cross_val_score библиотеки scikit-leam для проведения перекрестной проверки, используя при этом параметр scoring для определения одного из\n",
    "нескольких метрических показателей результативности, включая точность, прецизионность, полноту и оценку Fx.\n",
    "\n",
    "Точность является общепринятым метрическим показателем результативности.\n",
    "Это просто доля правильно предсказанных наблюдений:"
   ]
  },
  {
   "cell_type": "markdown",
   "id": "0a6a6c78",
   "metadata": {},
   "source": [
    "accuracy = (TP+TN)/(TP+TN+FP+FN)\n",
    "\n",
    "где:\n",
    "- ТР — количество истинноположительных исходов; наблюдения, которые являются частью положительного класса (имеет заболевание, приобретен товар и т. д.) и которые мы предсказали правильно;\n",
    "- TN— количество истинноотрицательных исходов; наблюдения, которые являются частью отрицательного класса (не имеет этого заболевания, не преобретен товар и т. д.) и которые мы предсказали правильно;\n",
    "- FP— количество ложноположительных исходов, также называется ошибкой 1- го рода; наблюдения, предсказанные как часть положительного класса, которые на самом деле являются частью отрицательного класса;\n",
    "- FN — количество ложноотрицательных исходов, также называется ошибкой 2- го рода; наблюдения, предсказанные как часть отрицательного класса, которые на самом деле являются частью положительного класса.\n",
    "\n",
    "Мы можем измерить точность в трехблочной (количество блоков, принятое по\n",
    "умолчанию) перекрестной проверке, установив параметр scoring=\"accuracy\":"
   ]
  },
  {
   "cell_type": "code",
   "execution_count": 7,
   "id": "54d32031",
   "metadata": {},
   "outputs": [
    {
     "data": {
      "text/plain": [
       "array([0.9555, 0.95  , 0.9585, 0.9555, 0.956 ])"
      ]
     },
     "execution_count": 7,
     "metadata": {},
     "output_type": "execute_result"
    }
   ],
   "source": [
    "# Загрузить библиотеки\n",
    "from sklearn.model_selection import cross_val_score\n",
    "from sklearn.linear_model import LogisticRegression\n",
    "from sklearn.datasets import make_classification\n",
    "# Сгенерировать матрицу признаков и вектор целей\n",
    "X, у = make_classification(n_samples = 10000,\n",
    "n_features = 3,\n",
    "n_informative = 3,\n",
    "n_redundant = 0,\n",
    "n_classes = 2,\n",
    "random_state = 1)\n",
    "# Создать объект логистической регрессии\n",
    "logit = LogisticRegression()\n",
    "# Перекрестно проверить модель, используя показатель точности\n",
    "cross_val_score(logit, X, у, scoring=\"accuracy\")"
   ]
  },
  {
   "cell_type": "markdown",
   "id": "e3be6f37",
   "metadata": {},
   "source": [
    "Привлекательность точности (*accuracy*) заключается в том, что она имеет интуитивное и простое объяснение на русском языке: доля наблюдений, предсказанных правильно.\n",
    "Однако в реальном мире часто наши данные имеют несбалансированные классы\n",
    "(например, 99.9% наблюдений относятся к классу 1 и только 0.1%— к классу 2).\n",
    "При наличии несбалансированных классов точность страдает от парадокса, когда\n",
    "модель высокоточна, но не обладает предсказательной силой. Например, представьте, что мы пытаемся предсказать наличие очень редкого рака, который встречается у 0.1% населения. После тренировки нашей модели мы обнаруживаем, что\n",
    "точность находится на уровне 95%. Вместе с тем 99.9% людей не болеют раком:\n",
    "если мы просто создадим модель, которая \"предсказывает\", что никто не имеет такой формы рака, то наша наивная модель будет на 4.9% точнее, но совершенно\n",
    "очевидно, не будет способна ничего предсказывать. По этой причине мы часто мотивированы использовать другие метрические показатели, такие как прецизионность, полнота и оценка F1 ."
   ]
  },
  {
   "cell_type": "markdown",
   "id": "63e84fa7",
   "metadata": {},
   "source": [
    "Прецизионность (*Precision*)— это доля каждого наблюдения, предсказанного положительно,\n",
    "которое на самом деле положительно. Эту меру можно представить как измерительный шум в наших предсказаниях, т. е. когда мы предсказываем что-то положительное, насколько вероятно, что мы будем правы. Модели с высокой прецизионностью пессимистичны, т. е. они предсказывают наблюдение как принадлежащее\n",
    "положительному классу, только когда они очень уверены в этом. Формально прецизионность рассчитывается по формуле:"
   ]
  },
  {
   "cell_type": "markdown",
   "id": "c23cca18",
   "metadata": {},
   "source": [
    "precision = TP/(TP+FP)"
   ]
  },
  {
   "cell_type": "code",
   "execution_count": 8,
   "id": "d0eb036b",
   "metadata": {},
   "outputs": [
    {
     "data": {
      "text/plain": [
       "array([0.95963673, 0.94820717, 0.9635996 , 0.96149949, 0.96060606])"
      ]
     },
     "execution_count": 8,
     "metadata": {},
     "output_type": "execute_result"
    }
   ],
   "source": [
    "# Перекрестно проверить модель, используя показатель прецизионности\n",
    "cross_val_score(logit, X, у, scoring=\"precision\")"
   ]
  },
  {
   "cell_type": "markdown",
   "id": "ce88e00a",
   "metadata": {},
   "source": [
    "Полнота (*Recall*)— это доля каждого положительного наблюдения, которое по-настоящему положительно. Полнота измеряет способность модели идентифицировать наблюдение положительного класса. Модели с высокой полнотой оптимистичны, т. е.\n",
    "они имеют низкую планку для предсказания, что наблюдение находится в положительном классе:"
   ]
  },
  {
   "cell_type": "markdown",
   "id": "9ac1b6a3",
   "metadata": {},
   "source": [
    "Именно введение precision не позволяет нам записывать все объекты в один класс, так как в этом случае мы получаем рост уровня False Positive. Recall демонстрирует способность алгоритма обнаруживать данный класс вообще, а precision — способность отличать этот класс от других классов."
   ]
  },
  {
   "cell_type": "markdown",
   "id": "617d0939",
   "metadata": {},
   "source": [
    "Recall = TP/(TP+FN)"
   ]
  },
  {
   "cell_type": "code",
   "execution_count": 9,
   "id": "37b95daf",
   "metadata": {},
   "outputs": [
    {
     "data": {
      "text/plain": [
       "array([0.951, 0.952, 0.953, 0.949, 0.951])"
      ]
     },
     "execution_count": 9,
     "metadata": {},
     "output_type": "execute_result"
    }
   ],
   "source": [
    "# Перекрестно проверить модель, используя показатель полноты\n",
    "cross_val_score(logit, X, у, scoring=\"recall\")"
   ]
  },
  {
   "cell_type": "markdown",
   "id": "5dcbb7ff",
   "metadata": {},
   "source": [
    "*Precision можно интерпретировать как долю объектов, названных классификатором положительными и при этом действительно являющимися положительными, а recall показывает, какую долю объектов положительного класса из всех объектов положительного класса нашел алгоритм.*"
   ]
  },
  {
   "cell_type": "markdown",
   "id": "880f03a7",
   "metadata": {},
   "source": [
    "Если вы впервые встречаете показатели прецизионности и полноты, вы должны\n",
    "затратить немного времени, чтобы полностью в них разобраться. Это один из их\n",
    "недостатков данных характеристик по сравнению с точностью; прецизионность и\n",
    "полнота менее интуитивны. Почти всегда нужен какой-то баланс между прецизионностью и полнотой, и эта роль отводится оценке F1. Оценка F1 является средним\n",
    "гармоническим (видом среднего значения, используемого для соотношений):"
   ]
  },
  {
   "cell_type": "markdown",
   "id": "3ddb51b9",
   "metadata": {},
   "source": [
    "F1 = 2*Precision*Recall / (Precision+Recall)"
   ]
  },
  {
   "cell_type": "markdown",
   "id": "cb98ea1a",
   "metadata": {},
   "source": [
    "Она является мерой правильности, достигаемой в положительном предсказании,\n",
    "т. е. сколько наблюдений, помеченных как положительные, на самом деле положительные:"
   ]
  },
  {
   "cell_type": "code",
   "execution_count": 11,
   "id": "37750f13",
   "metadata": {},
   "outputs": [
    {
     "data": {
      "text/plain": [
       "array([0.95529884, 0.9500998 , 0.95827049, 0.95520886, 0.95577889])"
      ]
     },
     "execution_count": 11,
     "metadata": {},
     "output_type": "execute_result"
    }
   ],
   "source": [
    "# Перекрестно проверить модель, используя показатель fl\n",
    "cross_val_score(logit, X, у, scoring=\"f1\")"
   ]
  },
  {
   "cell_type": "markdown",
   "id": "ae2c3612",
   "metadata": {},
   "source": [
    "**Оценивание порогов\n",
    "бинарного классификатора**"
   ]
  },
  {
   "cell_type": "markdown",
   "id": "3c4da156",
   "metadata": {},
   "source": [
    "Кривая рабочей характеристики приемника (receiver operating characteristic, ROCкривая) часто используется для оценки качества бинарного классификатора. Кривая\n",
    "ROC сравнивает наличие истинноположительных и ложноположительных исходов\n",
    "на каждом вероятностном пороге (т. е. вероятности, при которой наблюдение предсказывается как класс). Построив график кривой ROC, можно увидеть, насколько\n",
    "хорошо работает модель (рис. 11.1). Классификатор, который правильно предсказывает каждое наблюдение, будет выглядеть как сплошная светло-серая кривая на\n",
    "приведенном ниже графике, которая резко поднимается наверх. Классификатор,\n",
    "который предсказывает наугад, имеет вид диагональной прямой. Чем лучше модель, тем ближе она к сплошной линии. В библиотеке scikit-leam для вычисления\n",
    "истинно- и ложноположительных исходов на каждом пороге можно использовать\n",
    "метод roc curve, а затем вывести их на график:"
   ]
  },
  {
   "cell_type": "code",
   "execution_count": 18,
   "id": "705efd21",
   "metadata": {},
   "outputs": [
    {
     "data": {
      "image/png": "[encoded data removed]",
      "text/plain": [
       "<Figure size 640x480 with 1 Axes>"
      ]
     },
     "metadata": {},
     "output_type": "display_data"
    }
   ],
   "source": [
    "# Загрузить библиотеки\n",
    "import matplotlib.pyplot as plt\n",
    "from sklearn.datasets import make_classification\n",
    "from sklearn.linear_model import LogisticRegression\n",
    "from sklearn.metrics import roc_curve, roc_auc_score\n",
    "from sklearn.model_selection import train_test_split\n",
    "\n",
    "# Создать матрицу признаков и вектор целей\n",
    "features, target = make_classification(n_samples=10000,\n",
    "                                        n_features=10,\n",
    "                                        n_classes=2,\n",
    "                                        n_informative=3,\n",
    "                                        random_state=3)\n",
    "# Разбить на тренировочный и тестовый наборы\n",
    "features_train, features_test, target_train, target_test = train_test_split(features, target, test_size=0.1, random_state=1)\n",
    "\n",
    "# Создать логистический регрессионный классификатор\n",
    "logit = LogisticRegression()\n",
    "\n",
    "# Натренировать модель\n",
    "logit.fit(features_train, target_train)\n",
    "\n",
    "# Получить предсказанные вероятности\n",
    "target_probabilities = logit.predict_proba(features_test)[:,1]\n",
    "\n",
    "# Создать доли истинно- и ложноположительных исходов\n",
    "false_positive_rate, true_positive_rate, threshold = roc_curve(target_test, target_probabilities)\n",
    "\n",
    "# Построить график кривой ROC\n",
    "plt.title(\"Кривая ROC\")\n",
    "plt.plot(false_positive_rate, true_positive_rate)\n",
    "plt.plot([0, 1], ls=\"--\")\n",
    "plt.plot([0, 0], [1, 0] , c=\".7\")\n",
    "plt.plot([1, 1] , c=\".7\")\n",
    "plt.ylabel(\"Доля истинноположительных исходов\")\n",
    "plt.xlabel(\"Доля ложноположительных исходов\")\n",
    "plt.show()"
   ]
  },
  {
   "cell_type": "markdown",
   "id": "b430368a",
   "metadata": {},
   "source": [
    "До сих пор мы рассматривали только модели, основанные на предсказываемых ими\n",
    "значениях. Однако во многих обучающихся алгоритмах эти предсказанные значения основаны на вероятностных оценках, т. е. каждому наблюдению дается явная\n",
    "вероятность принадлежности в каждом классе. В нашем решении, чтобы увидеть\n",
    "предсказанные вероятности для первого наблюдения, мы можем применить метод\n",
    "**predict_probe**:"
   ]
  },
  {
   "cell_type": "code",
   "execution_count": 19,
   "id": "dde51875",
   "metadata": {},
   "outputs": [
    {
     "data": {
      "text/plain": [
       "array([[0.86891533, 0.13108467]])"
      ]
     },
     "execution_count": 19,
     "metadata": {},
     "output_type": "execute_result"
    }
   ],
   "source": [
    "# Получить предсказанные вероятности\n",
    "logit.predict_proba(features_test)[0:1]"
   ]
  },
  {
   "cell_type": "markdown",
   "id": "f0ba34c1",
   "metadata": {},
   "source": [
    "В этом примере первое наблюдение имеет -87% шанс быть в отрицательном классе\n",
    "(0) и 13% шанс быть в положительном классе (1). По умолчанию библиотека scikitleam предсказывает, что наблюдение является частью положительного класса, если\n",
    "вероятность больше 0.5 (эта величина называется вероятностным порогом). Однако вместо принятия средней позиции нередко требуется явным образом сместить\n",
    "нашу модель, чтобы использовать другой порог по неким существенным причинам.\n",
    "Например, если ложноположительный исход очень дорого обходится нашей компании, мы можем предпочесть модель с высоким вероятностным порогом. Нам не\n",
    "удастся предсказать некоторые положительные исходы, но когда наблюдение предсказано как положительное, мы можем быть очень уверены в том, что предсказание\n",
    "является правильным. Этот компромисс представлен в доле истинноположительных (true positive rate, TPR) и доле ложноположительных исходов (false positive rate,\n",
    "FPR). Доля истинноположительных исходов — это количество наблюдений, предсказанных правильно, деленное на все истинноположительные наблюдения:"
   ]
  },
  {
   "cell_type": "markdown",
   "id": "af7e2bd7",
   "metadata": {},
   "source": [
    "TPR = Истинноположительные / Истинноположительные + Ложноотрицательные\n",
    "\n",
    "Доля ложноположительных исходов — это количество неправильно предсказанных\n",
    "положительных исходов, деленное на все истинноотрицательные исходы:\n",
    "    \n",
    "FPR = Ложноположительные / Ложноположительные + Истинноотрицательные\n",
    "\n",
    "Кривая ROC представляет соответствующие доли TPR и FPR для каждого вероятностного порога. Например, в нашем решении примерный порог 0.50 имеет долю\n",
    "истинноположительных (TPR) 0.81 и долю ложноположительных (FPR) 0.15:"
   ]
  },
  {
   "cell_type": "code",
   "execution_count": 21,
   "id": "138317fc",
   "metadata": {},
   "outputs": [
    {
     "name": "stdout",
     "output_type": "stream",
     "text": [
      "Порог: 0.5331715230155316\n",
      "Доля истинноположительных: 0.810204081632653\n",
      "Доля ложноположительных: 0.14901960784313725\n"
     ]
    }
   ],
   "source": [
    "print(\"Порог:\", threshold[116])\n",
    "print(\"Доля истинноположительных:\", true_positive_rate[116])\n",
    "print(\"Доля ложноположительных:\", false_positive_rate [116])"
   ]
  },
  {
   "cell_type": "markdown",
   "id": "1c19f2d0",
   "metadata": {},
   "source": [
    "Однако если мы увеличим порог до ~80% (т. е. повысим уверенность модели перед\n",
    "тем, как она будет предсказывать наблюдение в качестве положительного), то доля\n",
    "истинноположительных (TPR) заметно упадет, и то же самое касается доли ложноположительных (FPR):"
   ]
  },
  {
   "cell_type": "code",
   "execution_count": 22,
   "id": "b5133921",
   "metadata": {},
   "outputs": [
    {
     "name": "stdout",
     "output_type": "stream",
     "text": [
      "Порог: 0.818913387665929\n",
      "Доля истинноположительных:  0.5448979591836735\n",
      "Доля ложноположительных: 0.047058823529411764\n"
     ]
    }
   ],
   "source": [
    "print(\"Порог:\", threshold[45])\n",
    "print(\"Доля истинноположительных: \", true_positive_rate [45])\n",
    "print(\"Доля ложноположительных:\", false_positive_rate[45])"
   ]
  },
  {
   "cell_type": "markdown",
   "id": "0e0b846d",
   "metadata": {},
   "source": [
    "https://community.alteryx.com/t5/Data-Science/ROC-Curves-in-Python-and-R/ba-p/138430"
   ]
  },
  {
   "cell_type": "markdown",
   "id": "0dee367d",
   "metadata": {},
   "source": [
    "**Оценивание предсказаний\n",
    "мульти классового классификатора**\n",
    "\n",
    "Дана модель, которая предсказывает три класса или более, и требуется оценить ее\n",
    "результативность.\n",
    "Использовать перекрестную проверку с оценочным метрическим показателем, способным справляться с более чем двумя классами:"
   ]
  },
  {
   "cell_type": "code",
   "execution_count": 2,
   "id": "28eae12d",
   "metadata": {},
   "outputs": [
    {
     "data": {
      "text/plain": [
       "array([0.841 , 0.829 , 0.8265, 0.8155, 0.82  ])"
      ]
     },
     "execution_count": 2,
     "metadata": {},
     "output_type": "execute_result"
    }
   ],
   "source": [
    "# Загрузить библиотеки\n",
    "from sklearn.model_selection import cross_val_score\n",
    "from sklearn.linear_model import LogisticRegression\n",
    "from sklearn.datasets import make_classification\n",
    "# Сгенерировать матрицу признаков и вектор целей\n",
    "features, target = make_classification(n_samples = 10000,\n",
    "n_features = 3,\n",
    "n_informative = 3,\n",
    "n_redundant = 0,\n",
    "n_classes = 3,\n",
    "random_state = 1)\n",
    "# Создать объект логистической регрессии\n",
    "logit = LogisticRegression()\n",
    "# Перекрестно проверить модель, используя показатель точности\n",
    "cross_val_score(logit, features, target, scoring='accuracy')"
   ]
  },
  {
   "cell_type": "markdown",
   "id": "f0492c02",
   "metadata": {},
   "source": [
    "Процедура перекрестной проверки  (cross-validation сокращенно CV). Набор тестов по-прежнему должен храниться для окончательной оценки, но набор для проверки больше не нужен при выполнении резюме. В базовом подходе, называемом k- кратным CV, обучающая выборка разбивается на k меньших наборов (другие подходы описаны ниже, но обычно следуют тем же принципам). Для каждой из k «фолдов» выполняется следующая процедура :\n",
    "\n",
    "Модель обучается с использованием  складок в качестве обучающих данных;\n",
    "Результирующая модель проверяется на оставшейся части данных (т. е. она используется в качестве тестового набора для вычисления показателя производительности, такого как точность).\n",
    "Показатель производительности, сообщаемый k- фолд перекрестной проверкой, тогда является средним из значений, вычисленных в цикле. Этот подход может быть дорогостоящим в вычислительном отношении, но не тратит слишком много данных (как в случае фиксации произвольного набора проверки), что является основным преимуществом в таких задачах, как обратный вывод, когда количество выборок очень мало.\n",
    "\n",
    "\n",
    "\n",
    "Многие встроенные в библиотеку scikit-leam метрические показатели предназначены для оценивания бинарных классификаторов. Однако многие из этих метрических показателей могут быть расширены для использования в условиях более двух классов. Прецизионность, полнота и оценки Fx являются полезными метрическими\n",
    "показателями, которые мы уже подробно рассмотрели в предыдущих рецептах.\n",
    "Хотя все они изначально были разработаны для бинарных классификаторов, их\n",
    "можно применить и к мультиклассовой конфигурации, рассматривая наши данные\n",
    "как набор бинарных классов. Это позволяет применять метрические показатели\n",
    "к каждому классу, как если бы он был единственным классом в данных, а затем\n",
    "агрегировать оценочные показатели для всех классов путем их усреднения:"
   ]
  },
  {
   "cell_type": "code",
   "execution_count": 4,
   "id": "3323bcda",
   "metadata": {},
   "outputs": [
    {
     "data": {
      "text/plain": [
       "array([0.84061272, 0.82895312, 0.82625661, 0.81515121, 0.81992692])"
      ]
     },
     "execution_count": 4,
     "metadata": {},
     "output_type": "execute_result"
    }
   ],
   "source": [
    "# Перекрестно проверить модель,\n",
    "# используя макроусредненную оценку F1\n",
    "cross_val_score(logit, features, target, scoring='f1_macro')"
   ]
  },
  {
   "cell_type": "markdown",
   "id": "3f947356",
   "metadata": {},
   "source": [
    "В этом фрагменте кода постфикс macro относится к методу, используемому для\n",
    "усреднения оценок из классов:\n",
    "- macro — рассчитать среднее метрических оценок для каждого класса, взвешивая каждый класс одинаково;\n",
    "- weighted — рассчитать среднее метрических оценок для каждого класса, взвешивая каждый класс пропорционально его размеру в данных;\n",
    "- micro— рассчитать среднее метрических оценок для каждой комбинации \"класс — наблюдение\"."
   ]
  },
  {
   "cell_type": "markdown",
   "id": "6a143a8a",
   "metadata": {},
   "source": [
    "# Визуализация результативности классификатора"
   ]
  },
  {
   "cell_type": "markdown",
   "id": "7990ee3c",
   "metadata": {},
   "source": [
    "Даны предсказанные классы и истинные классы тестовых данных, и требуется\n",
    "визуально сопоставить качество модели.\n",
    "\n",
    "Решение\n",
    "Использовать матрицу ошибок (несоответствий), которая сравнивает предсказанные и истинные классы (рис. 11.2):"
   ]
  },
  {
   "cell_type": "code",
   "execution_count": 10,
   "id": "82125508",
   "metadata": {},
   "outputs": [
    {
     "name": "stderr",
     "output_type": "stream",
     "text": [
      "/home/plokmit/anaconda3/envs/myenvconda/lib/python3.11/site-packages/sklearn/linear_model/_logistic.py:460: ConvergenceWarning: lbfgs failed to converge (status=1):\n",
      "STOP: TOTAL NO. of ITERATIONS REACHED LIMIT.\n",
      "\n",
      "Increase the number of iterations (max_iter) or scale the data as shown in:\n",
      "    https://scikit-learn.org/stable/modules/preprocessing.html\n",
      "Please also refer to the documentation for alternative solver options:\n",
      "    https://scikit-learn.org/stable/modules/linear_model.html#logistic-regression\n",
      "  n_iter_i = _check_optimize_result(\n"
     ]
    },
    {
     "data": {
      "image/png": "[encoded data removed]",
      "text/plain": [
       "<Figure size 640x480 with 1 Axes>"
      ]
     },
     "metadata": {},
     "output_type": "display_data"
    }
   ],
   "source": [
    "# Загрузить библиотеки\n",
    "import matplotlib.pyplot as pit\n",
    "import seaborn as sns\n",
    "from sklearn import datasets\n",
    "from sklearn.linear_model import LogisticRegression\n",
    "from sklearn.model_selection import train_test_split\n",
    "from sklearn.metrics import confusion_matrix\n",
    "import pandas as pd\n",
    "# Загрузить данные\n",
    "iris = datasets.load_iris()\n",
    "# Создать матрицу признаков\n",
    "features = iris.data\n",
    "# Создать вектор целей\n",
    "target = iris.target\n",
    "# Создать список имен целевых классов\n",
    "class_names = iris.target_names\n",
    "# Создать тренировочный и тестовый наборы\n",
    "features_train, features_test, target_train, target_test = train_test_split(features, target, random_state=1)\n",
    "# Создать объект логистической регрессии\n",
    "classifier = LogisticRegression()\n",
    "# Натренировать модель и сделать предсказания\n",
    "target_predicted = classifier.fit(features_train, target_train).predict(features_test)\n",
    "# Создать матрицу ошибок\n",
    "matrix = confusion_matrix(target_test, target_predicted)\n",
    "# Создать фрейм данных pandas\n",
    "dataframe = pd.DataFrame(matrix, index=class_names, columns=class_names)\n",
    "# Создать тепловую карту\n",
    "sns.heatmap(dataframe, annot=True, cbar=None, cmap=\"Blues\")\n",
    "pit.title(\"Матрица ошибок\")\n",
    "pit.tight_layout()\n",
    "pit.ylabel(\"Истинный класс\")\n",
    "pit.xlabel(\"Предсказанный класс\")\n",
    "pit. show ()"
   ]
  },
  {
   "cell_type": "markdown",
   "id": "16dbd450",
   "metadata": {},
   "source": [
    "Матрицы ошибок (несоответствий) — это простая и эффективная визуализация\n",
    "качества работы классификатора. Одним из основных преимуществ матриц ошибок\n",
    "является их интерпретируемость. Каждый столбец матрицы (часто визуализируемый как тепловая карта) представляет предсказанные классы, в то время как каждая\n",
    "строка показывает истинные классы. Конечный результат заключается в том, что\n",
    "каждая ячейка является одной возможной комбинацией предсказанных и истинных\n",
    "классов. Это, вероятно, лучше всего объяснить на примере. В нашем решении левая\n",
    "верхняя ячейка— это количество наблюдений, предсказанных как цветок ириса\n",
    "щетинистого Iris setosa (обозначенные столбцом), которые действительно являются\n",
    "цветками ириса щетинистого (обозначенные строкой). Это означает, что модель\n",
    "точно предсказала все цветки ириса щетинистого. Однако модель не так хорошо\n",
    "справилась с предсказанием цветка ириса вергинского Iris virginica. Правая нижняя\n",
    "ячейка указывает на то, что модель успешно предсказала девять наблюдений цветка\n",
    "ириса вергинского, но (глядя на одну ячейку вверх) при этом предсказала шесть\n",
    "цветков ириса вергинского, которые в действительности были цветками ириса разноцветного Iris versicolor.\n",
    "\n",
    "В отношении матриц ошибок стоит отметить три момента. Во-первых, идеальная\n",
    "модель будет иметь значения вдоль диагонали и нули в остальных ячейках. Плохая\n",
    "модель будет выглядеть так, будто количество наблюдений равномерно распределено по ячейкам. Во-вторых, матрица ошибок позволяет увидеть не только, где\n",
    "модель была неправильной, но и как она была неправильной, т. е. мы можем взглянуть на шаблоны неправильной классификации. Например, наша модель легко\n",
    "смогла различить Iris virginica и Iris setosa, но она гораздо хуже справилась с классификацией Iris virginica и Iris versicolor. Наконец, матрицы ошибок работают\n",
    "с любым количеством классов (хотя, если бы в нашем векторе целей был миллион\n",
    "классов, визуализацию матрицы ошибок было бы трудно прочитать)."
   ]
  },
  {
   "cell_type": "markdown",
   "id": "f6aea963",
   "metadata": {},
   "source": [
    "https://en.wikipedia.org/wiki/Confusion_matrix"
   ]
  },
  {
   "cell_type": "markdown",
   "id": "7911740e",
   "metadata": {},
   "source": [
    "**Оценивание регрессионных моделей**"
   ]
  },
  {
   "cell_type": "markdown",
   "id": "37078810",
   "metadata": {},
   "source": [
    "Использовать среднеквадратическую ошибку (mean squared error, MSE):"
   ]
  },
  {
   "cell_type": "code",
   "execution_count": 14,
   "id": "e578405b",
   "metadata": {},
   "outputs": [
    {
     "data": {
      "text/plain": [
       "array([-1974.65337976, -2004.54137625, -3935.19355723, -1060.04361386,\n",
       "       -1598.74104702])"
      ]
     },
     "execution_count": 14,
     "metadata": {},
     "output_type": "execute_result"
    }
   ],
   "source": [
    "# Загрузить библиотеки\n",
    "from sklearn.datasets import make_regression\n",
    "from sklearn.model_selection import cross_val_score\n",
    "from sklearn.linear_model import LinearRegression\n",
    "# Сгенерировать матрицу признаков, вектор целей\n",
    "features, target = make_regression(n_samples = 100,\n",
    "n_features = 3,\n",
    "n_informative = 3,\n",
    "n_targets = 1,\n",
    "noise = 50,\n",
    "coef = False,\n",
    "random_state = 1)\n",
    "# Создать объект линейной регрессии\n",
    "ols = LinearRegression()\n",
    "# Перекрестно проверить линейную регрессию,\n",
    "# используя (отрицательный) показатель MSE\n",
    "cross_val_score(ols, features, target, scoring='neg_mean_squared_error')"
   ]
  },
  {
   "cell_type": "markdown",
   "id": "959ed033",
   "metadata": {},
   "source": [
    "neg_mean_squared_error - это просто -1 * mean_squared_error. Это связано с соглашением в Scikit-learn api, которому следуют все оценщики.\n",
    "*Среднеквадратическая ошибка (MSE)*\n",
    "\n",
    "Среднеквадратичная ошибка (MSE) рассчитывается как среднее значение квадратов разностей между прогнозируемыми и фактически наблюдаемыми значениями."
   ]
  },
  {
   "cell_type": "markdown",
   "id": "a0b01e70",
   "metadata": {},
   "source": [
    "Еще одним распространенным метрическим показателем регрессии является коэффициент детерминации R^2:"
   ]
  },
  {
   "cell_type": "code",
   "execution_count": 15,
   "id": "0eaaeb8c",
   "metadata": {},
   "outputs": [
    {
     "data": {
      "text/plain": [
       "array([0.8622399 , 0.85838075, 0.74723548, 0.91354743, 0.84469331])"
      ]
     },
     "execution_count": 15,
     "metadata": {},
     "output_type": "execute_result"
    }
   ],
   "source": [
    "# Перекрестно проверить линейную регрессию,\n",
    "# используя показатель R-квадрат\n",
    "cross_val_score(ols, features, target, scoring='r2') "
   ]
  },
  {
   "cell_type": "markdown",
   "id": "13c12977",
   "metadata": {},
   "source": [
    "MSE является одним из наиболее распространенных оценочных показателей для\n",
    "регрессионных моделей. Формально MSE имеет вид:\n",
    "    \n",
    "MSE = 1/n * sum( <u>yi</u> - yi)^2"
   ]
  },
  {
   "cell_type": "markdown",
   "id": "cdbd1262",
   "metadata": {},
   "source": [
    "где п — число наблюдений; уi — истинное целевое значение, которое мы пытаемся предсказать для наблюдения i; <u>уi</u>, — предсказанное моделью значение для yi."
   ]
  },
  {
   "cell_type": "markdown",
   "id": "f3b7af3f",
   "metadata": {},
   "source": [
    "MSE — это мера квадратичной суммы всех расстояний между предсказанными и\n",
    "истинными значениями. Чем выше значение MSE, тем больше общая квадратичная\n",
    "ошибка, и тем хуже модель. Существует ряд математических преимуществ от возведения ошибок в квадрат (одно из них заключается в том, что модель заставляет\n",
    "все значения ошибок быть положительными), но одно часто несознаваемое последствие состоит в том, что возведение в квадрат штрафует несколько крупных ошибок больше, чем множество мелких ошибок, даже если абсолютные значения\n",
    "\n",
    "ошибки одинаковые. Например, представьте две модели, А и В, каждая с двумя\n",
    "наблюдениями:\n",
    "- модель А имеет ошибки 0 и 10, и, следовательно, ее MSE О2 + 102 = 100;\n",
    "- модель В имеет две ошибки по 5 каждая, и, следовательно, ее MSE 52 + 52 = 50.\n",
    "Обе модели имеют одинаковую общую ошибку 10; однако MSE будет считать модель A (MSE = 100) хуже, чем модель В (MSE = 50). На практике это последствие\n",
    "редко является проблемой (и в действительности может быть теоретически полезным), и MSE прекрасно работает как оценочная метрика.\n",
    "Одно важное замечание: по умолчанию в библиотеке scikit-leam аргументы параметрической переменной scoring исходят из того, что более высокие значения лучше, чем более низкие. Однако это не относится к MSE, где более высокие значения\n",
    "означают худшую модель. По этой причине библиотека scikit-leam обращается\n",
    "к отрицательному показателю MSE с помощью аргумента neg mean squared error."
   ]
  },
  {
   "cell_type": "code",
   "execution_count": null,
   "id": "fac1bb83",
   "metadata": {},
   "outputs": [],
   "source": []
  }
 ],
 "metadata": {
  "kernelspec": {
   "display_name": "Python 3 (ipykernel)",
   "language": "python",
   "name": "python3"
  },
  "language_info": {
   "codemirror_mode": {
    "name": "ipython",
    "version": 3
   },
   "file_extension": ".py",
   "mimetype": "text/x-python",
   "name": "python",
   "nbconvert_exporter": "python",
   "pygments_lexer": "ipython3",
   "version": "3.11.4"
  }
 },
 "nbformat": 4,
 "nbformat_minor": 5
}
